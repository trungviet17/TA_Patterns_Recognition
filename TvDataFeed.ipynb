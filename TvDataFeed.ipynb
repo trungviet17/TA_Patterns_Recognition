{
 "cells": [
  {
   "cell_type": "markdown",
   "metadata": {},
   "source": [
    "# TvDataFeed library"
   ]
  },
  {
   "cell_type": "code",
   "execution_count": 1,
   "metadata": {},
   "outputs": [],
   "source": [
    "with open('acc.txt', 'r') as file : \n",
    "    lines = file.readlines()\n",
    "    user = lines[0].strip()\n",
    "    pass_word = lines[1].strip()"
   ]
  },
  {
   "cell_type": "code",
   "execution_count": 2,
   "metadata": {},
   "outputs": [
    {
     "name": "stderr",
     "output_type": "stream",
     "text": [
      "error while signin\n",
      "you are using nologin method, data you access may be limited\n"
     ]
    }
   ],
   "source": [
    "from tvDatafeed import TvDatafeed, Interval\n",
    "tv = TvDatafeed(username=user, password= pass_word)"
   ]
  },
  {
   "cell_type": "code",
   "execution_count": 20,
   "metadata": {},
   "outputs": [],
   "source": [
    "# find exchange and symbols : https://tvdb.brianthe.dev/\n",
    "\n",
    "df = tv.get_hist(symbol='META', exchange='NASDAQ', interval=Interval.in_1_hour,n_bars=6000)"
   ]
  },
  {
   "cell_type": "code",
   "execution_count": 21,
   "metadata": {},
   "outputs": [
    {
     "data": {
      "text/html": [
       "<div>\n",
       "<style scoped>\n",
       "    .dataframe tbody tr th:only-of-type {\n",
       "        vertical-align: middle;\n",
       "    }\n",
       "\n",
       "    .dataframe tbody tr th {\n",
       "        vertical-align: top;\n",
       "    }\n",
       "\n",
       "    .dataframe thead th {\n",
       "        text-align: right;\n",
       "    }\n",
       "</style>\n",
       "<table border=\"1\" class=\"dataframe\">\n",
       "  <thead>\n",
       "    <tr style=\"text-align: right;\">\n",
       "      <th></th>\n",
       "      <th>symbol</th>\n",
       "      <th>open</th>\n",
       "      <th>high</th>\n",
       "      <th>low</th>\n",
       "      <th>close</th>\n",
       "      <th>volume</th>\n",
       "    </tr>\n",
       "    <tr>\n",
       "      <th>datetime</th>\n",
       "      <th></th>\n",
       "      <th></th>\n",
       "      <th></th>\n",
       "      <th></th>\n",
       "      <th></th>\n",
       "      <th></th>\n",
       "    </tr>\n",
       "  </thead>\n",
       "  <tbody>\n",
       "    <tr>\n",
       "      <th>2021-01-04 21:30:00</th>\n",
       "      <td>NASDAQ:META</td>\n",
       "      <td>274.650</td>\n",
       "      <td>274.66</td>\n",
       "      <td>270.010</td>\n",
       "      <td>271.24</td>\n",
       "      <td>95457.0</td>\n",
       "    </tr>\n",
       "    <tr>\n",
       "      <th>2021-01-04 22:30:00</th>\n",
       "      <td>NASDAQ:META</td>\n",
       "      <td>271.160</td>\n",
       "      <td>272.57</td>\n",
       "      <td>267.470</td>\n",
       "      <td>268.32</td>\n",
       "      <td>79002.0</td>\n",
       "    </tr>\n",
       "    <tr>\n",
       "      <th>2021-01-04 23:30:00</th>\n",
       "      <td>NASDAQ:META</td>\n",
       "      <td>268.100</td>\n",
       "      <td>269.00</td>\n",
       "      <td>265.250</td>\n",
       "      <td>266.95</td>\n",
       "      <td>71734.0</td>\n",
       "    </tr>\n",
       "    <tr>\n",
       "      <th>2021-01-05 00:30:00</th>\n",
       "      <td>NASDAQ:META</td>\n",
       "      <td>266.810</td>\n",
       "      <td>268.95</td>\n",
       "      <td>265.940</td>\n",
       "      <td>268.44</td>\n",
       "      <td>52124.0</td>\n",
       "    </tr>\n",
       "    <tr>\n",
       "      <th>2021-01-05 01:30:00</th>\n",
       "      <td>NASDAQ:META</td>\n",
       "      <td>268.390</td>\n",
       "      <td>269.75</td>\n",
       "      <td>268.085</td>\n",
       "      <td>269.28</td>\n",
       "      <td>64195.0</td>\n",
       "    </tr>\n",
       "    <tr>\n",
       "      <th>...</th>\n",
       "      <td>...</td>\n",
       "      <td>...</td>\n",
       "      <td>...</td>\n",
       "      <td>...</td>\n",
       "      <td>...</td>\n",
       "      <td>...</td>\n",
       "    </tr>\n",
       "    <tr>\n",
       "      <th>2024-01-10 23:30:00</th>\n",
       "      <td>NASDAQ:META</td>\n",
       "      <td>368.405</td>\n",
       "      <td>371.40</td>\n",
       "      <td>368.250</td>\n",
       "      <td>371.03</td>\n",
       "      <td>608378.0</td>\n",
       "    </tr>\n",
       "    <tr>\n",
       "      <th>2024-01-11 00:30:00</th>\n",
       "      <td>NASDAQ:META</td>\n",
       "      <td>370.990</td>\n",
       "      <td>372.23</td>\n",
       "      <td>370.570</td>\n",
       "      <td>371.31</td>\n",
       "      <td>450171.0</td>\n",
       "    </tr>\n",
       "    <tr>\n",
       "      <th>2024-01-11 01:30:00</th>\n",
       "      <td>NASDAQ:META</td>\n",
       "      <td>371.330</td>\n",
       "      <td>372.45</td>\n",
       "      <td>370.060</td>\n",
       "      <td>372.21</td>\n",
       "      <td>289475.0</td>\n",
       "    </tr>\n",
       "    <tr>\n",
       "      <th>2024-01-11 02:30:00</th>\n",
       "      <td>NASDAQ:META</td>\n",
       "      <td>372.230</td>\n",
       "      <td>372.95</td>\n",
       "      <td>369.790</td>\n",
       "      <td>370.41</td>\n",
       "      <td>433740.0</td>\n",
       "    </tr>\n",
       "    <tr>\n",
       "      <th>2024-01-11 03:30:00</th>\n",
       "      <td>NASDAQ:META</td>\n",
       "      <td>370.440</td>\n",
       "      <td>371.45</td>\n",
       "      <td>369.440</td>\n",
       "      <td>370.48</td>\n",
       "      <td>268805.0</td>\n",
       "    </tr>\n",
       "  </tbody>\n",
       "</table>\n",
       "<p>5308 rows × 6 columns</p>\n",
       "</div>"
      ],
      "text/plain": [
       "                          symbol     open    high      low   close    volume\n",
       "datetime                                                                    \n",
       "2021-01-04 21:30:00  NASDAQ:META  274.650  274.66  270.010  271.24   95457.0\n",
       "2021-01-04 22:30:00  NASDAQ:META  271.160  272.57  267.470  268.32   79002.0\n",
       "2021-01-04 23:30:00  NASDAQ:META  268.100  269.00  265.250  266.95   71734.0\n",
       "2021-01-05 00:30:00  NASDAQ:META  266.810  268.95  265.940  268.44   52124.0\n",
       "2021-01-05 01:30:00  NASDAQ:META  268.390  269.75  268.085  269.28   64195.0\n",
       "...                          ...      ...     ...      ...     ...       ...\n",
       "2024-01-10 23:30:00  NASDAQ:META  368.405  371.40  368.250  371.03  608378.0\n",
       "2024-01-11 00:30:00  NASDAQ:META  370.990  372.23  370.570  371.31  450171.0\n",
       "2024-01-11 01:30:00  NASDAQ:META  371.330  372.45  370.060  372.21  289475.0\n",
       "2024-01-11 02:30:00  NASDAQ:META  372.230  372.95  369.790  370.41  433740.0\n",
       "2024-01-11 03:30:00  NASDAQ:META  370.440  371.45  369.440  370.48  268805.0\n",
       "\n",
       "[5308 rows x 6 columns]"
      ]
     },
     "execution_count": 21,
     "metadata": {},
     "output_type": "execute_result"
    }
   ],
   "source": [
    "df"
   ]
  },
  {
   "cell_type": "code",
   "execution_count": 9,
   "metadata": {},
   "outputs": [],
   "source": [
    "df.to_csv('Data\\meta_1.csv')"
   ]
  }
 ],
 "metadata": {
  "kernelspec": {
   "display_name": "Python 3",
   "language": "python",
   "name": "python3"
  },
  "language_info": {
   "codemirror_mode": {
    "name": "ipython",
    "version": 3
   },
   "file_extension": ".py",
   "mimetype": "text/x-python",
   "name": "python",
   "nbconvert_exporter": "python",
   "pygments_lexer": "ipython3",
   "version": "3.11.4"
  }
 },
 "nbformat": 4,
 "nbformat_minor": 2
}
