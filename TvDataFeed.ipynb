{
 "cells": [
  {
   "cell_type": "markdown",
   "metadata": {},
   "source": [
    "# TvDataFeed library"
   ]
  },
  {
   "cell_type": "code",
   "execution_count": 11,
   "metadata": {},
   "outputs": [],
   "source": [
    "with open('acc.txt', 'r') as file : \n",
    "    lines = file.readlines()\n",
    "    user = lines[0].strip()\n",
    "    pass_word = lines[1].strip()"
   ]
  },
  {
   "cell_type": "code",
   "execution_count": 12,
   "metadata": {},
   "outputs": [
    {
     "name": "stderr",
     "output_type": "stream",
     "text": [
      "error while signin\n",
      "you are using nologin method, data you access may be limited\n"
     ]
    }
   ],
   "source": [
    "from tvDatafeed import TvDatafeed, Interval\n",
    "tv = TvDatafeed(username=user, password= pass_word)"
   ]
  },
  {
   "cell_type": "code",
   "execution_count": 23,
   "metadata": {},
   "outputs": [],
   "source": [
    "# find exchange and symbols : https://tvdb.brianthe.dev/\n",
    "\n",
    "df = tv.get_hist(symbol='META', exchange='NASDAQ', interval=Interval.in_1_hour,n_bars=2000)"
   ]
  },
  {
   "cell_type": "code",
   "execution_count": 24,
   "metadata": {},
   "outputs": [
    {
     "data": {
      "text/html": [
       "<div>\n",
       "<style scoped>\n",
       "    .dataframe tbody tr th:only-of-type {\n",
       "        vertical-align: middle;\n",
       "    }\n",
       "\n",
       "    .dataframe tbody tr th {\n",
       "        vertical-align: top;\n",
       "    }\n",
       "\n",
       "    .dataframe thead th {\n",
       "        text-align: right;\n",
       "    }\n",
       "</style>\n",
       "<table border=\"1\" class=\"dataframe\">\n",
       "  <thead>\n",
       "    <tr style=\"text-align: right;\">\n",
       "      <th></th>\n",
       "      <th>symbol</th>\n",
       "      <th>open</th>\n",
       "      <th>high</th>\n",
       "      <th>low</th>\n",
       "      <th>close</th>\n",
       "      <th>volume</th>\n",
       "    </tr>\n",
       "    <tr>\n",
       "      <th>datetime</th>\n",
       "      <th></th>\n",
       "      <th></th>\n",
       "      <th></th>\n",
       "      <th></th>\n",
       "      <th></th>\n",
       "      <th></th>\n",
       "    </tr>\n",
       "  </thead>\n",
       "  <tbody>\n",
       "    <tr>\n",
       "      <th>2022-11-17 00:30:00</th>\n",
       "      <td>NASDAQ:META</td>\n",
       "      <td>113.190</td>\n",
       "      <td>114.42</td>\n",
       "      <td>113.100</td>\n",
       "      <td>113.56</td>\n",
       "      <td>106002.0</td>\n",
       "    </tr>\n",
       "    <tr>\n",
       "      <th>2022-11-17 01:30:00</th>\n",
       "      <td>NASDAQ:META</td>\n",
       "      <td>113.560</td>\n",
       "      <td>113.63</td>\n",
       "      <td>112.775</td>\n",
       "      <td>113.35</td>\n",
       "      <td>77373.0</td>\n",
       "    </tr>\n",
       "    <tr>\n",
       "      <th>2022-11-17 02:30:00</th>\n",
       "      <td>NASDAQ:META</td>\n",
       "      <td>113.320</td>\n",
       "      <td>113.63</td>\n",
       "      <td>112.880</td>\n",
       "      <td>113.05</td>\n",
       "      <td>76217.0</td>\n",
       "    </tr>\n",
       "    <tr>\n",
       "      <th>2022-11-17 03:30:00</th>\n",
       "      <td>NASDAQ:META</td>\n",
       "      <td>113.060</td>\n",
       "      <td>113.38</td>\n",
       "      <td>112.850</td>\n",
       "      <td>113.22</td>\n",
       "      <td>88424.0</td>\n",
       "    </tr>\n",
       "    <tr>\n",
       "      <th>2022-11-17 21:30:00</th>\n",
       "      <td>NASDAQ:META</td>\n",
       "      <td>110.390</td>\n",
       "      <td>111.60</td>\n",
       "      <td>109.810</td>\n",
       "      <td>111.03</td>\n",
       "      <td>250614.0</td>\n",
       "    </tr>\n",
       "    <tr>\n",
       "      <th>...</th>\n",
       "      <td>...</td>\n",
       "      <td>...</td>\n",
       "      <td>...</td>\n",
       "      <td>...</td>\n",
       "      <td>...</td>\n",
       "      <td>...</td>\n",
       "    </tr>\n",
       "    <tr>\n",
       "      <th>2024-01-10 02:30:00</th>\n",
       "      <td>NASDAQ:META</td>\n",
       "      <td>358.200</td>\n",
       "      <td>359.13</td>\n",
       "      <td>358.010</td>\n",
       "      <td>358.22</td>\n",
       "      <td>150879.0</td>\n",
       "    </tr>\n",
       "    <tr>\n",
       "      <th>2024-01-10 03:30:00</th>\n",
       "      <td>NASDAQ:META</td>\n",
       "      <td>358.230</td>\n",
       "      <td>358.33</td>\n",
       "      <td>356.190</td>\n",
       "      <td>357.42</td>\n",
       "      <td>162600.0</td>\n",
       "    </tr>\n",
       "    <tr>\n",
       "      <th>2024-01-10 21:30:00</th>\n",
       "      <td>NASDAQ:META</td>\n",
       "      <td>360.170</td>\n",
       "      <td>368.31</td>\n",
       "      <td>359.060</td>\n",
       "      <td>366.60</td>\n",
       "      <td>1051626.0</td>\n",
       "    </tr>\n",
       "    <tr>\n",
       "      <th>2024-01-10 22:30:00</th>\n",
       "      <td>NASDAQ:META</td>\n",
       "      <td>366.600</td>\n",
       "      <td>369.06</td>\n",
       "      <td>366.070</td>\n",
       "      <td>368.36</td>\n",
       "      <td>447005.0</td>\n",
       "    </tr>\n",
       "    <tr>\n",
       "      <th>2024-01-10 23:30:00</th>\n",
       "      <td>NASDAQ:META</td>\n",
       "      <td>368.405</td>\n",
       "      <td>371.11</td>\n",
       "      <td>368.250</td>\n",
       "      <td>370.68</td>\n",
       "      <td>373427.0</td>\n",
       "    </tr>\n",
       "  </tbody>\n",
       "</table>\n",
       "<p>2000 rows × 6 columns</p>\n",
       "</div>"
      ],
      "text/plain": [
       "                          symbol     open    high      low   close     volume\n",
       "datetime                                                                     \n",
       "2022-11-17 00:30:00  NASDAQ:META  113.190  114.42  113.100  113.56   106002.0\n",
       "2022-11-17 01:30:00  NASDAQ:META  113.560  113.63  112.775  113.35    77373.0\n",
       "2022-11-17 02:30:00  NASDAQ:META  113.320  113.63  112.880  113.05    76217.0\n",
       "2022-11-17 03:30:00  NASDAQ:META  113.060  113.38  112.850  113.22    88424.0\n",
       "2022-11-17 21:30:00  NASDAQ:META  110.390  111.60  109.810  111.03   250614.0\n",
       "...                          ...      ...     ...      ...     ...        ...\n",
       "2024-01-10 02:30:00  NASDAQ:META  358.200  359.13  358.010  358.22   150879.0\n",
       "2024-01-10 03:30:00  NASDAQ:META  358.230  358.33  356.190  357.42   162600.0\n",
       "2024-01-10 21:30:00  NASDAQ:META  360.170  368.31  359.060  366.60  1051626.0\n",
       "2024-01-10 22:30:00  NASDAQ:META  366.600  369.06  366.070  368.36   447005.0\n",
       "2024-01-10 23:30:00  NASDAQ:META  368.405  371.11  368.250  370.68   373427.0\n",
       "\n",
       "[2000 rows x 6 columns]"
      ]
     },
     "execution_count": 24,
     "metadata": {},
     "output_type": "execute_result"
    }
   ],
   "source": [
    "df"
   ]
  },
  {
   "cell_type": "code",
   "execution_count": null,
   "metadata": {},
   "outputs": [],
   "source": [
    "df.to_csv('Data\\meta_1.csv')"
   ]
  }
 ],
 "metadata": {
  "kernelspec": {
   "display_name": "Python 3",
   "language": "python",
   "name": "python3"
  },
  "language_info": {
   "codemirror_mode": {
    "name": "ipython",
    "version": 3
   },
   "file_extension": ".py",
   "mimetype": "text/x-python",
   "name": "python",
   "nbconvert_exporter": "python",
   "pygments_lexer": "ipython3",
   "version": "3.11.4"
  }
 },
 "nbformat": 4,
 "nbformat_minor": 2
}
